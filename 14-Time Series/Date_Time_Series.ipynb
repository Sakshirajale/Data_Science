{
 "cells": [
  {
   "cell_type": "code",
   "execution_count": 1,
   "id": "0afc9fc3-7916-45c3-b04a-67e0c987abae",
   "metadata": {},
   "outputs": [],
   "source": [
    "from datetime import datetime"
   ]
  },
  {
   "cell_type": "code",
   "execution_count": 2,
   "id": "fb48bad1-dfb2-4fdd-8086-6c4ebf17c054",
   "metadata": {},
   "outputs": [],
   "source": [
    "#To illustrate the order of arguments\n",
    "my_year=2017\n",
    "my_month=1\n",
    "my_day=2\n",
    "my_hour=13\n",
    "my_minute=30\n",
    "my_second=15"
   ]
  },
  {
   "cell_type": "code",
   "execution_count": 3,
   "id": "fc7f88df-ef75-49fe-a7c3-bdf37621781a",
   "metadata": {},
   "outputs": [],
   "source": [
    "# January 2nd, 2017\n",
    "my_date=datetime(my_year,my_month,my_day)"
   ]
  },
  {
   "cell_type": "code",
   "execution_count": 4,
   "id": "55340209-1a5c-4895-b447-d09de564650e",
   "metadata": {},
   "outputs": [
    {
     "data": {
      "text/plain": [
       "datetime.datetime(2017, 1, 2, 0, 0)"
      ]
     },
     "execution_count": 4,
     "metadata": {},
     "output_type": "execute_result"
    }
   ],
   "source": [
    "#Defaults to 0:00\n",
    "my_date"
   ]
  },
  {
   "cell_type": "code",
   "execution_count": 5,
   "id": "7ead73db-8577-40aa-849c-789e84dbcd62",
   "metadata": {},
   "outputs": [],
   "source": [
    "# January 2nd, 2017 at 13:30:15\n",
    "my_date_time=datetime(my_year,my_month,my_day,my_hour,my_minute,my_second)"
   ]
  },
  {
   "cell_type": "code",
   "execution_count": 6,
   "id": "8fdcc062-78d8-4a7b-8ae4-59b9318fac71",
   "metadata": {},
   "outputs": [
    {
     "data": {
      "text/plain": [
       "datetime.datetime(2017, 1, 2, 13, 30, 15)"
      ]
     },
     "execution_count": 6,
     "metadata": {},
     "output_type": "execute_result"
    }
   ],
   "source": [
    "my_date_time"
   ]
  },
  {
   "cell_type": "markdown",
   "id": "de72ec59-6927-4a89-b1be-ef85df04af43",
   "metadata": {},
   "source": [
    "# You can grab any part of the datetime object you want"
   ]
  },
  {
   "cell_type": "code",
   "execution_count": 7,
   "id": "e3f46c31-c2f9-4487-a709-1a720ce48e0f",
   "metadata": {},
   "outputs": [
    {
     "data": {
      "text/plain": [
       "2"
      ]
     },
     "execution_count": 7,
     "metadata": {},
     "output_type": "execute_result"
    }
   ],
   "source": [
    "my_date.day"
   ]
  },
  {
   "cell_type": "code",
   "execution_count": 8,
   "id": "088699c2-634c-4ef9-a98c-e57aaff10fb7",
   "metadata": {},
   "outputs": [
    {
     "data": {
      "text/plain": [
       "13"
      ]
     },
     "execution_count": 8,
     "metadata": {},
     "output_type": "execute_result"
    }
   ],
   "source": [
    "my_date_time.hour"
   ]
  },
  {
   "cell_type": "markdown",
   "id": "6c4d6078-4dac-4438-8589-31f67608886b",
   "metadata": {},
   "source": [
    "# Numpy Datetime Arrays\n",
    "We mentioned that "
   ]
  },
  {
   "cell_type": "code",
   "execution_count": 9,
   "id": "f74dd34a-b72e-47ac-8214-636c889fd9bc",
   "metadata": {},
   "outputs": [],
   "source": [
    "import numpy as np"
   ]
  },
  {
   "cell_type": "code",
   "execution_count": 10,
   "id": "20ae5049-45db-4d90-ac6c-d8cc3fabdac5",
   "metadata": {},
   "outputs": [
    {
     "data": {
      "text/plain": [
       "array(['2016-03-15', '2017-05-24', '2018-08-09'], dtype='datetime64[D]')"
      ]
     },
     "execution_count": 10,
     "metadata": {},
     "output_type": "execute_result"
    }
   ],
   "source": [
    "# Create an array from three dates\n",
    "np.array(['2016-03-15','2017-05-24','2018-08-09'],dtype='datetime64')"
   ]
  },
  {
   "cell_type": "code",
   "execution_count": 11,
   "id": "52cdac7a-26dd-4682-a080-b24d75060d77",
   "metadata": {},
   "outputs": [
    {
     "data": {
      "text/plain": [
       "array(['2016-03-15T00', '2017-05-24T00', '2018-08-09T00'],\n",
       "      dtype='datetime64[h]')"
      ]
     },
     "execution_count": 11,
     "metadata": {},
     "output_type": "execute_result"
    }
   ],
   "source": [
    "np.array(['2016-03-15','2017-05-24','2018-08-09'],dtype='datetime64[h]')"
   ]
  },
  {
   "cell_type": "code",
   "execution_count": 12,
   "id": "28a656de-0b6f-445d-b8f0-7b1b029e6153",
   "metadata": {},
   "outputs": [
    {
     "data": {
      "text/plain": [
       "array(['2016', '2017', '2018'], dtype='datetime64[Y]')"
      ]
     },
     "execution_count": 12,
     "metadata": {},
     "output_type": "execute_result"
    }
   ],
   "source": [
    "np.array(['2016-03-15','2017-05-24','2018-08-09'],dtype='datetime64[Y]')"
   ]
  },
  {
   "cell_type": "markdown",
   "id": "b009a645-8bd1-4b45-af7f-2ad1095c19c2",
   "metadata": {},
   "source": [
    "# Numpy Date Ranges\n",
    "Just as np.arrange(start,stop,step) can be used to produce an array of evently-spaced integers,\n",
    "we can pass a dtype argument to obtain an array of date."
   ]
  },
  {
   "cell_type": "code",
   "execution_count": 13,
   "id": "fa2f1973-1d17-491c-bb81-08eb8ec95072",
   "metadata": {},
   "outputs": [
    {
     "data": {
      "text/plain": [
       "array(['2018-06-01', '2018-06-08', '2018-06-15'], dtype='datetime64[D]')"
      ]
     },
     "execution_count": 13,
     "metadata": {},
     "output_type": "execute_result"
    }
   ],
   "source": [
    "# an array of dates from 06-08-2018 to 6-22-2018 spaced one week apart\n",
    "np.arange('2018-06-01','2018-06-22',7,dtype='datetime64[D]')"
   ]
  },
  {
   "cell_type": "code",
   "execution_count": 14,
   "id": "373d80d5-5797-4187-9abc-6d1d898df0f3",
   "metadata": {},
   "outputs": [],
   "source": [
    "#By omittimng the step we can obtain every value based on the precision."
   ]
  },
  {
   "cell_type": "code",
   "execution_count": 16,
   "id": "024e7084-e24c-47a1-8fe4-17691c1c9758",
   "metadata": {},
   "outputs": [
    {
     "data": {
      "text/plain": [
       "array(['1968', '1969', '1970', '1971', '1972', '1973', '1974', '1975'],\n",
       "      dtype='datetime64[Y]')"
      ]
     },
     "execution_count": 16,
     "metadata": {},
     "output_type": "execute_result"
    }
   ],
   "source": [
    "#An array od dates for every year from 1968 to 1975\n",
    "np.arange('1968','1976',dtype='datetime64[Y]')"
   ]
  },
  {
   "cell_type": "markdown",
   "id": "307be030-32e0-4dd2-84f5-695116d736fa",
   "metadata": {},
   "source": [
    "# Pandas Datetime Index\n",
    "we will usually deal with time series as a datetime index when working with pandas dataframes.\n",
    "Fortunatly pandas has a lot of functions and methods works with series."
   ]
  },
  {
   "cell_type": "code",
   "execution_count": 19,
   "id": "68f49dbf-d496-4648-94fd-10678fcf1879",
   "metadata": {},
   "outputs": [],
   "source": [
    "import pandas as pd"
   ]
  },
  {
   "cell_type": "code",
   "execution_count": 20,
   "id": "32c65f2d-8dd1-4e09-b0c4-d43f4423e826",
   "metadata": {},
   "outputs": [],
   "source": [
    "#The simplest way to build a Datetimeindex is with the pd.date_range() method:"
   ]
  },
  {
   "cell_type": "code",
   "execution_count": 23,
   "id": "94844491-06e3-47df-b3a1-4dc9542c268f",
   "metadata": {},
   "outputs": [
    {
     "data": {
      "text/plain": [
       "DatetimeIndex(['2018-07-08', '2018-07-09', '2018-07-10', '2018-07-11',\n",
       "               '2018-07-12', '2018-07-13', '2018-07-14'],\n",
       "              dtype='datetime64[ns]', freq='D')"
      ]
     },
     "execution_count": 23,
     "metadata": {},
     "output_type": "execute_result"
    }
   ],
   "source": [
    "#The week of july 8th, 2018\n",
    "idx=pd.date_range('7/8/2018', periods=7, freq='D')\n",
    "idx"
   ]
  },
  {
   "cell_type": "markdown",
   "id": "1855a95b-9139-437f-8c5d-02d71af2a153",
   "metadata": {},
   "source": [
    "# Datetime Index frequencies:\n",
    "When we used pd.date_range() above, we had pass in a frequency\n",
    "parameter 'D'. This created a seires of 7 days spaced one dat apart. We will cover the topic\n",
    "in depth."
   ]
  },
  {
   "cell_type": "code",
   "execution_count": 24,
   "id": "5639fbbb-3a8d-4306-b1f3-a077a23f2ed2",
   "metadata": {},
   "outputs": [],
   "source": [
    "#Another way is to convert incoming text with the pd.to_datetime() method:\n"
   ]
  },
  {
   "cell_type": "code",
   "execution_count": 31,
   "id": "c05f6f76-64e8-471e-b8fd-f56398009cb4",
   "metadata": {},
   "outputs": [
    {
     "data": {
      "text/plain": [
       "DatetimeIndex(['2018-01-01', '2018-01-02', '2018-01-03', 'NaT'], dtype='datetime64[ns]', freq=None)"
      ]
     },
     "execution_count": 31,
     "metadata": {},
     "output_type": "execute_result"
    }
   ],
   "source": [
    "idx=pd.to_datetime(['Jan 01, 2018','01/02/18','03-Jan-2018',None],format='mixed')\n",
    "idx"
   ]
  },
  {
   "cell_type": "code",
   "execution_count": 32,
   "id": "960df123-81fe-4e5a-abb6-bc9aec901f1c",
   "metadata": {},
   "outputs": [],
   "source": [
    "#A 3rd way is pass a list or an array of datetime objects into the pd.DatetimeIndex() method:"
   ]
  },
  {
   "cell_type": "code",
   "execution_count": 34,
   "id": "35bed4f9-794f-4666-b4b0-b9ae7e8f0f07",
   "metadata": {},
   "outputs": [
    {
     "data": {
      "text/plain": [
       "array(['2016-03-15', '2017-05-24', '2018-08-09'], dtype='datetime64[D]')"
      ]
     },
     "execution_count": 34,
     "metadata": {},
     "output_type": "execute_result"
    }
   ],
   "source": [
    "# Create a numpy datetime array\n",
    "some_dates=np.array(['2016-03-15','2017-05-24','2018-08-09'],dtype='datetime64[D]')\n",
    "some_dates"
   ]
  },
  {
   "cell_type": "code",
   "execution_count": 35,
   "id": "14cdc4b6-78cc-44e3-a9ed-b788b07f295b",
   "metadata": {},
   "outputs": [
    {
     "data": {
      "text/plain": [
       "DatetimeIndex(['2016-03-15', '2017-05-24', '2018-08-09'], dtype='datetime64[s]', freq=None)"
      ]
     },
     "execution_count": 35,
     "metadata": {},
     "output_type": "execute_result"
    }
   ],
   "source": [
    "# Convert to an index\n",
    "idx=pd.DatetimeIndex(some_dates)\n",
    "idx"
   ]
  },
  {
   "cell_type": "markdown",
   "id": "0c7f4f05-7848-4127-8567-b309fc06b1c7",
   "metadata": {},
   "source": [
    "# Pandas Datetime Analysis"
   ]
  },
  {
   "cell_type": "code",
   "execution_count": 36,
   "id": "abebf00c-3e71-45dc-b88b-edaf9db43d5e",
   "metadata": {},
   "outputs": [
    {
     "name": "stdout",
     "output_type": "stream",
     "text": [
      "[[ 0.79546771 -2.36434891]\n",
      " [ 1.49349807 -1.31244308]\n",
      " [ 0.03672594 -0.47580399]]\n"
     ]
    }
   ],
   "source": [
    "#create some random data\n",
    "data=np.random.randn(3,2)\n",
    "cols=['A','B']\n",
    "print(data)"
   ]
  },
  {
   "cell_type": "code",
   "execution_count": 37,
   "id": "e01822e9-7701-4c2d-9539-04600c484b9e",
   "metadata": {},
   "outputs": [
    {
     "data": {
      "text/html": [
       "<div>\n",
       "<style scoped>\n",
       "    .dataframe tbody tr th:only-of-type {\n",
       "        vertical-align: middle;\n",
       "    }\n",
       "\n",
       "    .dataframe tbody tr th {\n",
       "        vertical-align: top;\n",
       "    }\n",
       "\n",
       "    .dataframe thead th {\n",
       "        text-align: right;\n",
       "    }\n",
       "</style>\n",
       "<table border=\"1\" class=\"dataframe\">\n",
       "  <thead>\n",
       "    <tr style=\"text-align: right;\">\n",
       "      <th></th>\n",
       "      <th>A</th>\n",
       "      <th>B</th>\n",
       "    </tr>\n",
       "  </thead>\n",
       "  <tbody>\n",
       "    <tr>\n",
       "      <th>2016-03-15</th>\n",
       "      <td>0.795468</td>\n",
       "      <td>-2.364349</td>\n",
       "    </tr>\n",
       "    <tr>\n",
       "      <th>2017-05-24</th>\n",
       "      <td>1.493498</td>\n",
       "      <td>-1.312443</td>\n",
       "    </tr>\n",
       "    <tr>\n",
       "      <th>2018-08-09</th>\n",
       "      <td>0.036726</td>\n",
       "      <td>-0.475804</td>\n",
       "    </tr>\n",
       "  </tbody>\n",
       "</table>\n",
       "</div>"
      ],
      "text/plain": [
       "                   A         B\n",
       "2016-03-15  0.795468 -2.364349\n",
       "2017-05-24  1.493498 -1.312443\n",
       "2018-08-09  0.036726 -0.475804"
      ]
     },
     "execution_count": 37,
     "metadata": {},
     "output_type": "execute_result"
    }
   ],
   "source": [
    "#Create a DataFrame with our random data, our date index, and our columns\n",
    "df=pd.DataFrame(data,idx,cols)\n",
    "df"
   ]
  },
  {
   "cell_type": "markdown",
   "id": "05cb6be6-e0ea-46d8-898d-88efb73d4a9d",
   "metadata": {},
   "source": [
    "Now we can perform a typical analysis of our DataFrame."
   ]
  },
  {
   "cell_type": "code",
   "execution_count": 38,
   "id": "aff0bc2d-ae75-4fbb-a09f-12e5dc8ab151",
   "metadata": {},
   "outputs": [
    {
     "data": {
      "text/plain": [
       "DatetimeIndex(['2016-03-15', '2017-05-24', '2018-08-09'], dtype='datetime64[s]', freq=None)"
      ]
     },
     "execution_count": 38,
     "metadata": {},
     "output_type": "execute_result"
    }
   ],
   "source": [
    "df.index"
   ]
  },
  {
   "cell_type": "code",
   "execution_count": 39,
   "id": "d8eda691-17f6-44f2-afdf-387af152ff09",
   "metadata": {},
   "outputs": [
    {
     "data": {
      "text/plain": [
       "Timestamp('2018-08-09 00:00:00')"
      ]
     },
     "execution_count": 39,
     "metadata": {},
     "output_type": "execute_result"
    }
   ],
   "source": [
    "#Latest Date Value\n",
    "df.index.max()"
   ]
  },
  {
   "cell_type": "code",
   "execution_count": 40,
   "id": "a9a6f0ae-b95e-4984-b51f-7466f7a851e8",
   "metadata": {},
   "outputs": [
    {
     "data": {
      "text/plain": [
       "2"
      ]
     },
     "execution_count": 40,
     "metadata": {},
     "output_type": "execute_result"
    }
   ],
   "source": [
    "#Latest Date index location\n",
    "df.index.argmax()"
   ]
  },
  {
   "cell_type": "code",
   "execution_count": 41,
   "id": "212583a6-513a-4f8c-8b75-7669894ba851",
   "metadata": {},
   "outputs": [
    {
     "data": {
      "text/plain": [
       "Timestamp('2016-03-15 00:00:00')"
      ]
     },
     "execution_count": 41,
     "metadata": {},
     "output_type": "execute_result"
    }
   ],
   "source": [
    "#Earliest Date value\n",
    "df.index.min()"
   ]
  },
  {
   "cell_type": "code",
   "execution_count": 42,
   "id": "5a1049ea-ec06-4fc3-814b-fb0447b3a5d1",
   "metadata": {},
   "outputs": [
    {
     "data": {
      "text/plain": [
       "0"
      ]
     },
     "execution_count": 42,
     "metadata": {},
     "output_type": "execute_result"
    }
   ],
   "source": [
    "#Earliest Date Index Location\n",
    "df.index.argmin()"
   ]
  },
  {
   "cell_type": "markdown",
   "id": "d67765b4-65aa-457d-ab11-3b5b55b9e343",
   "metadata": {},
   "source": []
  }
 ],
 "metadata": {
  "kernelspec": {
   "display_name": "Python 3 (ipykernel)",
   "language": "python",
   "name": "python3"
  },
  "language_info": {
   "codemirror_mode": {
    "name": "ipython",
    "version": 3
   },
   "file_extension": ".py",
   "mimetype": "text/x-python",
   "name": "python",
   "nbconvert_exporter": "python",
   "pygments_lexer": "ipython3",
   "version": "3.11.7"
  }
 },
 "nbformat": 4,
 "nbformat_minor": 5
}
