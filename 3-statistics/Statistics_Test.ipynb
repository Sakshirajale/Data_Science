{
 "cells": [
  {
   "cell_type": "markdown",
   "id": "36be56c7-d8d1-4979-aaca-326432aa3bc7",
   "metadata": {},
   "source": [
    "1. Given a dataset of integers or floating-point numbers, calculate the \r\n",
    "following descriptive statistics: \r\n",
    " Mean \r\n",
    " Median \r\n",
    " Mode \r\n",
    " Variance \r\n",
    " Standard Dev\n",
    "ation \r\n",
    "Sample Dataset:  [20, 40, 40, 40, 30, 50, 60]"
   ]
  },
  {
   "cell_type": "code",
   "execution_count": 5,
   "id": "f47cd30d-c02f-419c-ad2e-750dfc54c841",
   "metadata": {},
   "outputs": [
    {
     "data": {
      "text/plain": [
       "[20, 40, 40, 40, 30, 50, 60]"
      ]
     },
     "execution_count": 5,
     "metadata": {},
     "output_type": "execute_result"
    }
   ],
   "source": [
    "import numpy as np\n",
    "from scipy import stats\n",
    "Dataset=[20, 40, 40, 40, 30, 50, 60]\n",
    "Dataset"
   ]
  },
  {
   "cell_type": "code",
   "execution_count": 6,
   "id": "33fbf29b-5a13-4937-99e0-ca349f085ae8",
   "metadata": {},
   "outputs": [
    {
     "data": {
      "text/plain": [
       "40.0"
      ]
     },
     "execution_count": 6,
     "metadata": {},
     "output_type": "execute_result"
    }
   ],
   "source": [
    "#Calculate mean\n",
    "mean=np.mean(Dataset)\n",
    "mean\n"
   ]
  },
  {
   "cell_type": "code",
   "execution_count": 7,
   "id": "66030cab-5eae-4191-90d0-1cf761f77fef",
   "metadata": {},
   "outputs": [
    {
     "data": {
      "text/plain": [
       "40.0"
      ]
     },
     "execution_count": 7,
     "metadata": {},
     "output_type": "execute_result"
    }
   ],
   "source": [
    "# Calculate Median\n",
    "median=np.median(Dataset)\n",
    "median"
   ]
  },
  {
   "cell_type": "code",
   "execution_count": 11,
   "id": "2ae79e89-6cd2-44c5-b77b-11b3495541fb",
   "metadata": {},
   "outputs": [
    {
     "data": {
      "text/plain": [
       "ModeResult(mode=40, count=3)"
      ]
     },
     "execution_count": 11,
     "metadata": {},
     "output_type": "execute_result"
    }
   ],
   "source": [
    "# Calculate Mode\n",
    "mode=stats.mode(Dataset)\n",
    "mode"
   ]
  },
  {
   "cell_type": "code",
   "execution_count": 12,
   "id": "c5a791e6-440a-46b9-8c94-2682a75e4025",
   "metadata": {},
   "outputs": [
    {
     "data": {
      "text/plain": [
       "142.85714285714286"
      ]
     },
     "execution_count": 12,
     "metadata": {},
     "output_type": "execute_result"
    }
   ],
   "source": [
    "# Calculate Variance\n",
    "variance=np.var(Dataset)\n",
    "variance"
   ]
  },
  {
   "cell_type": "code",
   "execution_count": 14,
   "id": "68c69f72-bb6f-4ec6-876c-c266efa8b3a5",
   "metadata": {},
   "outputs": [
    {
     "data": {
      "text/plain": [
       "11.952286093343936"
      ]
     },
     "execution_count": 14,
     "metadata": {},
     "output_type": "execute_result"
    }
   ],
   "source": [
    "# Calculate Standard Deviation\n",
    "std=np.std(Dataset)\n",
    "std"
   ]
  },
  {
   "cell_type": "markdown",
   "id": "37017fe9-b2fc-457b-abf0-65dca9baa102",
   "metadata": {},
   "source": [
    "5. Given a data of house prices [200000, 250000, 150000, 350000, 300000, \n",
    "400000, 450000, 600000, 650000, 500000, 550000]. Calculate the following: \n",
    " The median of the dataset. \n",
    " The 25th percentile (1st quantile), 50th percentile (2nd quantile, also the \n",
    "median), and 75th percentile (3rd quantile). \n",
    " Visualize the data using a box plot. \n",
    "ogram."
   ]
  },
  {
   "cell_type": "code",
   "execution_count": 20,
   "id": "8dcb92f5-56e6-4f22-85c6-f6ac9a978675",
   "metadata": {},
   "outputs": [],
   "source": [
    "import numpy as np\n",
    "import matplotlib.pyplot as plt\n",
    "prices = [200000, 250000, 150000, 350000, 300000, 400000, 450000, 600000, 650000, 500000, 550000]\n"
   ]
  },
  {
   "cell_type": "code",
   "execution_count": 21,
   "id": "7c76a3b9-5dc5-4285-b5ec-8015d6007d70",
   "metadata": {},
   "outputs": [
    {
     "data": {
      "text/plain": [
       "400000.0"
      ]
     },
     "execution_count": 21,
     "metadata": {},
     "output_type": "execute_result"
    }
   ],
   "source": [
    "#Median of the dataset\n",
    "median = np.median(prices)\n",
    "median"
   ]
  },
  {
   "cell_type": "code",
   "execution_count": 26,
   "id": "0ba82cb6-4cd3-401a-9876-473d2dbda829",
   "metadata": {},
   "outputs": [
    {
     "data": {
      "text/plain": [
       "275000.0"
      ]
     },
     "execution_count": 26,
     "metadata": {},
     "output_type": "execute_result"
    }
   ],
   "source": [
    "#25th percentile\n",
    "percentile_25th=np.percentile(prices,25)\n",
    "percentile_25th"
   ]
  },
  {
   "cell_type": "code",
   "execution_count": 28,
   "id": "8430a192-787c-4c1f-9636-7c8aa59c1eb2",
   "metadata": {},
   "outputs": [
    {
     "data": {
      "text/plain": [
       "400000.0"
      ]
     },
     "execution_count": 28,
     "metadata": {},
     "output_type": "execute_result"
    }
   ],
   "source": [
    "#50th percentile\n",
    "percentile_50th=np.percentile(prices,50)\n",
    "percentile_50th"
   ]
  },
  {
   "cell_type": "code",
   "execution_count": 31,
   "id": "5a607688-1b93-4ee1-b84b-51c1688f977c",
   "metadata": {},
   "outputs": [
    {
     "data": {
      "text/plain": [
       "525000.0"
      ]
     },
     "execution_count": 31,
     "metadata": {},
     "output_type": "execute_result"
    }
   ],
   "source": [
    "#75th percentile\n",
    "percentile_75th=np.percentile(prices,75)\n",
    "percentile_75th"
   ]
  },
  {
   "cell_type": "code",
   "execution_count": 34,
   "id": "c4417fff-dbf1-4aba-b91a-13487daf1b44",
   "metadata": {},
   "outputs": [
    {
     "data": {
      "image/png": "[encoded data removed]",
      "text/plain": [
       "<Figure size 640x480 with 1 Axes>"
      ]
     },
     "metadata": {},
     "output_type": "display_data"
    }
   ],
   "source": [
    "plt.boxplot(prices,vert=True)\n",
    "plt.title(\"Box plot of prices\")\n",
    "plt.xlabel(\"Prices($)\")\n",
    "plt.show()"
   ]
  },
  {
   "cell_type": "markdown",
   "id": "62ec6094-5a96-460f-a07e-890b1ee2814d",
   "metadata": {},
   "source": [
    "Categorize Each Variable\n",
    "\n",
    "1)ID: Nominal (A unique identifier for each record)\n",
    "\n",
    "2)Name: Nominal (A label with no inherent order)\n",
    "\n",
    "3)Age: Ratio (A numerical value with a true zero point, e.g., age can be zero, and it makes sense to say that one person is twice as old as another)\n",
    "\n",
    "4)Education Level: Ordinal (Categories with a meaningful order, e.g., Bachelor's < Master's < PhD)\n",
    "\n",
    "5)Salary: Ratio (Numerical value with a true zero, e.g., salary can be zero, and comparisons like twice as much are meaningful)\n",
    "\n",
    "6)Joining Year: Interval (A numerical value with no true zero point, e.g., years are intervals but have no true zero)"
   ]
  },
  {
   "cell_type": "markdown",
   "id": "6aa12f7c-1e38-4412-89ef-7ac8ef837b9b",
   "metadata": {},
   "source": [
    "4. Given a dataset containing various types of data, categorize each \r\n",
    "variable into the appropriate statistical data type: Nominal, Ordinal, \r\n",
    "Interval, or Ratio. Then, write code to demonstrate how you would work \r\n",
    "with each type of data."
   ]
  },
  {
   "cell_type": "code",
   "execution_count": 37,
   "id": "330758e6-f6f0-4790-a58a-0db2da9681ba",
   "metadata": {},
   "outputs": [
    {
     "data": {
      "text/html": [
       "<div>\n",
       "<style scoped>\n",
       "    .dataframe tbody tr th:only-of-type {\n",
       "        vertical-align: middle;\n",
       "    }\n",
       "\n",
       "    .dataframe tbody tr th {\n",
       "        vertical-align: top;\n",
       "    }\n",
       "\n",
       "    .dataframe thead th {\n",
       "        text-align: right;\n",
       "    }\n",
       "</style>\n",
       "<table border=\"1\" class=\"dataframe\">\n",
       "  <thead>\n",
       "    <tr style=\"text-align: right;\">\n",
       "      <th></th>\n",
       "      <th>ID</th>\n",
       "      <th>Name</th>\n",
       "      <th>Age</th>\n",
       "      <th>Education Level</th>\n",
       "      <th>Salary</th>\n",
       "      <th>Joining Year</th>\n",
       "    </tr>\n",
       "  </thead>\n",
       "  <tbody>\n",
       "    <tr>\n",
       "      <th>0</th>\n",
       "      <td>1</td>\n",
       "      <td>Sophie</td>\n",
       "      <td>22</td>\n",
       "      <td>Bachelor's</td>\n",
       "      <td>60000</td>\n",
       "      <td>2022</td>\n",
       "    </tr>\n",
       "    <tr>\n",
       "      <th>1</th>\n",
       "      <td>2</td>\n",
       "      <td>Aryan</td>\n",
       "      <td>25</td>\n",
       "      <td>Master's</td>\n",
       "      <td>75000</td>\n",
       "      <td>2020</td>\n",
       "    </tr>\n",
       "    <tr>\n",
       "      <th>2</th>\n",
       "      <td>3</td>\n",
       "      <td>Amit</td>\n",
       "      <td>28</td>\n",
       "      <td>PhD</td>\n",
       "      <td>78000</td>\n",
       "      <td>2018</td>\n",
       "    </tr>\n",
       "    <tr>\n",
       "      <th>3</th>\n",
       "      <td>4</td>\n",
       "      <td>Charu</td>\n",
       "      <td>26</td>\n",
       "      <td>Bachelor's</td>\n",
       "      <td>45000</td>\n",
       "      <td>2015</td>\n",
       "    </tr>\n",
       "    <tr>\n",
       "      <th>4</th>\n",
       "      <td>5</td>\n",
       "      <td>Piyush</td>\n",
       "      <td>37</td>\n",
       "      <td>Master's</td>\n",
       "      <td>92000</td>\n",
       "      <td>2010</td>\n",
       "    </tr>\n",
       "  </tbody>\n",
       "</table>\n",
       "</div>"
      ],
      "text/plain": [
       "   ID    Name  Age Education Level  Salary  Joining Year\n",
       "0   1  Sophie   22      Bachelor's   60000          2022\n",
       "1   2   Aryan   25        Master's   75000          2020\n",
       "2   3    Amit   28             PhD   78000          2018\n",
       "3   4   Charu   26      Bachelor's   45000          2015\n",
       "4   5  Piyush   37        Master's   92000          2010"
      ]
     },
     "execution_count": 37,
     "metadata": {},
     "output_type": "execute_result"
    }
   ],
   "source": [
    "import pandas as pd\n",
    "# Create a DataFrame using the example dataset\n",
    "data = {\n",
    "    'ID': [1, 2, 3, 4, 5],\n",
    "    'Name': ['Sophie', 'Aryan', 'Amit', 'Charu', 'Piyush'],\n",
    "    'Age': [22, 25, 28, 26, 37],\n",
    "    'Education Level': ['Bachelor\\'s', 'Master\\'s', 'PhD', 'Bachelor\\'s', 'Master\\'s'],\n",
    "    'Salary': [60000, 75000, 78000, 45000, 92000],\n",
    "    'Joining Year': [2022, 2020, 2018, 2015, 2010]\n",
    "}\n",
    "df=pd.DataFrame(data)\n",
    "df"
   ]
  },
  {
   "cell_type": "code",
   "execution_count": 38,
   "id": "c449220b-1086-4c09-80af-17957c6bdec1",
   "metadata": {},
   "outputs": [
    {
     "name": "stdout",
     "output_type": "stream",
     "text": [
      "\n",
      "Unique Names: ['Sophie' 'Aryan' 'Amit' 'Charu' 'Piyush']\n"
     ]
    }
   ],
   "source": [
    "# Nominal Data - Name\n",
    "print(\"\\nUnique Names:\", df['Name'].unique())"
   ]
  },
  {
   "cell_type": "code",
   "execution_count": 39,
   "id": "0e70ac7f-bb43-49ff-9ade-0487e26bd3a4",
   "metadata": {},
   "outputs": [
    {
     "name": "stdout",
     "output_type": "stream",
     "text": [
      "\n",
      "Ordered Education Levels:\n",
      "      Name Education Level  Education Level Numeric\n",
      "0  Sophie      Bachelor's                        1\n",
      "1   Aryan        Master's                        2\n",
      "2    Amit             PhD                        3\n",
      "3   Charu      Bachelor's                        1\n",
      "4  Piyush        Master's                        2\n"
     ]
    }
   ],
   "source": [
    "# Ordinal Data - Education Level\n",
    "# We can order the education levels and map them to integers for analysis\n",
    "education_order = {'Bachelor\\'s': 1, 'Master\\'s': 2, 'PhD': 3}\n",
    "df['Education Level Numeric'] = df['Education Level'].map(education_order)\n",
    "print(\"\\nOrdered Education Levels:\\n\", df[['Name', 'Education Level', 'Education Level Numeric']])"
   ]
  },
  {
   "cell_type": "code",
   "execution_count": 40,
   "id": "ae0cb7d5-5c12-4de5-92ef-f5a804896032",
   "metadata": {},
   "outputs": [
    {
     "name": "stdout",
     "output_type": "stream",
     "text": [
      "\n",
      "Mean Age: 27.6\n",
      "Mean Salary: 70000.0\n"
     ]
    }
   ],
   "source": [
    "# Ratio Data - Age and Salary\n",
    "print(\"\\nMean Age:\", df['Age'].mean())\n",
    "print(\"Mean Salary:\", df['Salary'].mean())\n"
   ]
  },
  {
   "cell_type": "code",
   "execution_count": 41,
   "id": "60532ed2-d411-4a92-b4bb-3864c5a9e00c",
   "metadata": {},
   "outputs": [
    {
     "name": "stdout",
     "output_type": "stream",
     "text": [
      "\n",
      "Range of Joining Years: 12\n"
     ]
    }
   ],
   "source": [
    "# Interval Data - Joining Year\n",
    "# Calculate the range of joining years\n",
    "joining_year_range = df['Joining Year'].max() - df['Joining Year'].min()\n",
    "print(\"\\nRange of Joining Years:\", joining_year_range)"
   ]
  },
  {
   "cell_type": "code",
   "execution_count": null,
   "id": "2ead84ff-0e19-4c88-8089-f189c1516183",
   "metadata": {},
   "outputs": [],
   "source": []
  }
 ],
 "metadata": {
  "kernelspec": {
   "display_name": "Python 3 (ipykernel)",
   "language": "python",
   "name": "python3"
  },
  "language_info": {
   "codemirror_mode": {
    "name": "ipython",
    "version": 3
   },
   "file_extension": ".py",
   "mimetype": "text/x-python",
   "name": "python",
   "nbconvert_exporter": "python",
   "pygments_lexer": "ipython3",
   "version": "3.11.7"
  }
 },
 "nbformat": 4,
 "nbformat_minor": 5
}
